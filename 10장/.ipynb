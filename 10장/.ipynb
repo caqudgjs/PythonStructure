{
 "cells": [
  {
   "cell_type": "code",
   "execution_count": 1,
   "metadata": {},
   "outputs": [],
   "source": [
    "#10-1\n",
    "def DFS(vtx, adj, s, visited) :\n",
    "    print(vtx[s], end=' ')          # 현재 정점 s를 출력함\n",
    "    visited[s] = True               # 현재 정점 s를 visited에 추가함\n",
    "    for v in range(len(vtx)) :      # 인접행렬\n",
    "        if adj[s][v] != 0 :         # 모든 간선 (s,v)에 대해\n",
    "            if visited[v]==False:   # v를 아직 방문하지 않았으면 \n",
    "                DFS(vtx, adj, v, visited)"
   ]
  },
  {
   "cell_type": "code",
   "execution_count": 2,
   "metadata": {},
   "outputs": [
    {
     "name": "stdout",
     "output_type": "stream",
     "text": [
      "DFS(출발:A) : A B D C E G H F \n"
     ]
    }
   ],
   "source": [
    "#10-2\n",
    "vtx =  ['A', 'B','C','D','E','F','G','H']\n",
    "edge = [ [  0,  1,  1,  0,  0,  0,  0,  0],\n",
    "         [  1,  0,  0,  1,  0,  0,  0,  0],\n",
    "         [  1,  0,  0,  1,  1,  0,  0,  0],\n",
    "         [  0,  1,  1,  0,  0,  1,  0,  0],\n",
    "         [  0,  0,  1,  0,  0,  0,  1,  1],\n",
    "         [  0,  0,  0,  1,  0,  0,  0,  0],\n",
    "         [  0,  0,  0,  0,  1,  0,  0,  1],\n",
    "         [  0,  0,  0,  0,  1,  0,  1,  0] ]\n",
    "\n",
    "print('DFS(출발:A) : ', end=\"\")\n",
    "DFS(vtx, edge, 0, [False]*len(vtx))\n",
    "print()"
   ]
  },
  {
   "cell_type": "code",
   "execution_count": 3,
   "metadata": {},
   "outputs": [],
   "source": [
    "#10-3\n",
    "from queue import Queue                 # queue 모듈의 Queue 사용\n",
    "def BFS_AL(vtx, aList, s):\n",
    "    n = len(vtx)                        # 그래프의 정점 수\n",
    "    visited = [False]*n                 # 방문 확인을 위한 리스트\n",
    "    Q = Queue()                         # 공백상태의 큐 생성\n",
    "    Q.put(s)                            # 맨 처음에는 시작 정점만 있음\n",
    "    visited[s] = True                   # s는 \"방문\"했다고 표시\n",
    "    while not Q.empty() :\n",
    "        s = Q.get()                     # 큐에서 정점을 꺼냄\n",
    "        print(vtx[s], end=' ')          # 정점을 출력(처리)함\n",
    "        for v in aList[s] :               # s의 모든 이웃 v에 대해\n",
    "            if visited[v]==False :      # 방문하지 않은 이웃 정점이면\n",
    "                Q.put(v)                # 큐에 삽입\n",
    "                visited[v] = True       # \"방문\"했다고 표시"
   ]
  },
  {
   "cell_type": "code",
   "execution_count": 4,
   "metadata": {},
   "outputs": [
    {
     "name": "stdout",
     "output_type": "stream",
     "text": [
      "BFS_AL(출발:A): A B C D E F G H \n"
     ]
    }
   ],
   "source": [
    "#10-4\n",
    "vtx = [ 'A','B','C','D','E','F','G','H']\n",
    "aList = [[ 1, 2 ],      # 'A'의 인접정점 인덱스\n",
    "         [ 0, 3 ],      # 'B'의 인접정점 인덱스\n",
    "         [ 0, 3, 4 ],   # 'C'\n",
    "         [ 1, 2, 5 ],   # 'D'\n",
    "         [ 2, 6, 7 ],   # 'E'\n",
    "         [ 3 ],         # 'F'\n",
    "         [ 4, 7 ],      # 'G'\n",
    "         [ 4, 6 ] ]     # 'H'\n",
    "\n",
    "print('BFS_AL(출발:A): ', end=\"\")\n",
    "BFS_AL(vtx, aList, 0)\n",
    "print()"
   ]
  },
  {
   "cell_type": "code",
   "execution_count": null,
   "metadata": {},
   "outputs": [],
   "source": [
    "#10-10"
   ]
  }
 ],
 "metadata": {
  "kernelspec": {
   "display_name": "Python 3",
   "language": "python",
   "name": "python3"
  },
  "language_info": {
   "codemirror_mode": {
    "name": "ipython",
    "version": 3
   },
   "file_extension": ".py",
   "mimetype": "text/x-python",
   "name": "python",
   "nbconvert_exporter": "python",
   "pygments_lexer": "ipython3",
   "version": "3.11.0"
  }
 },
 "nbformat": 4,
 "nbformat_minor": 2
}
