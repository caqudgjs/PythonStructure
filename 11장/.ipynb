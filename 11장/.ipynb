{
 "cells": [
  {
   "cell_type": "code",
   "execution_count": 1,
   "metadata": {},
   "outputs": [],
   "source": [
    "#11.1\n",
    "vertex =   ['A',    'B',    'C',    'D',    'E',    'F',    'G' ]\n",
    "weight = [ [None,\t29,\t\tNone,\tNone,\tNone,   10,\t\tNone],\n",
    "           [29,\tNone,\t16,\t\tNone,\tNone,\tNone,\t15  ],\n",
    "           [None,\t16,\t\tNone,\t12,\t\tNone,\tNone,\tNone],\n",
    "           [None,\tNone,   12,\t\tNone,\t22,\t\tNone,\t18  ],\n",
    "           [None,\tNone,\tNone,   22,\t\tNone,\t27,\t\t25  ],\n",
    "           [10,\tNone,\tNone,\tNone,   27,\t\tNone,\tNone],\n",
    "           [None,  15,\t\tNone,   18,\t\t25,\t\tNone,\tNone]]   "
   ]
  },
  {
   "cell_type": "code",
   "execution_count": 2,
   "metadata": {},
   "outputs": [],
   "source": [
    "#11.2\n",
    "def weightSum( vlist, W ):\t\t\t\t# 매개변수: 정점 리스트, 인접 행렬\n",
    "    sum = 0\t\t\t\t\t\t\t# 가중치의 합\n",
    "    for i in range(len(vlist)) :\t\t# 모든 정점에 대해(i: 0, ... N-1)\n",
    "        for j in range(i+1, len(vlist)) :\t# 하나의 행에 대해 (삼각영역)\n",
    "            if W[i][j] != None :\t\t# 만약 간선이 있으면\n",
    "                sum += W[i][j]\t\t\t# sum에 추가\t\n",
    "    return sum\t\t\t\t\t\t\t# 전체 가중치 합을 반환"
   ]
  },
  {
   "cell_type": "code",
   "execution_count": 3,
   "metadata": {},
   "outputs": [],
   "source": [
    "#11.6\n",
    "def printAllEdges(graph):\t\t# 모든 간선을 출력하는 함수\n",
    "    for v in graph:             # 그래프의 모든 정점 v에 대해: 'A', 'B', ...\n",
    "        for e in graph[v]:      # v의 모든 간선 e에 대해: ('B', 29), ...\n",
    "            if v <= e[0] :\n",
    "                print(\"(%s,%s,%d)\"%(v,e[0],e[1]), end=' ')\n",
    "\n",
    "print('AL : weight sum = ', weightSum(graphAL))\n",
    "printAllEdges(graphAL)"
   ]
  },
  {
   "cell_type": "code",
   "execution_count": 4,
   "metadata": {},
   "outputs": [],
   "source": [
    "#11.7\n",
    "def init_set(nSets) :\n",
    "    global set_size, parent \n",
    "    set_size = nSets;\n",
    "    for i in range(nSets):\n",
    "        parent.append(-1)\t\t# 맨 처음에는 모든 정점이 각각 고유의 집합\t\n"
   ]
  },
  {
   "cell_type": "code",
   "execution_count": null,
   "metadata": {},
   "outputs": [],
   "source": [
    "#11.10\n",
    "def MSTKruskal(vertex, adj):\n",
    "    vsize = len(vertex)             # 정점의 개수\n",
    "    init_set(vsize)                 # 정점 집합 초기화\n",
    "    eList = []                      # 간선 리스트\n",
    "\n",
    "    for i in range(vsize-1) :       # 모든 간선을 리스트에 넣음\n",
    "        for j in range(i+1, vsize) :\n",
    "            if adj[i][j] != None :\n",
    "                eList.append((i,j,adj[i][j]))   # 튜플로 저장\n",
    "\n",
    "    # 간선 리스트를 가중치의 내림차순으로 정렬\n",
    "    eList.sort(key= lambda e : e[2], reverse=True)\n",
    "\n",
    "    edgeAccepted = 0\n",
    "    while (edgeAccepted < vsize - 1) :  # 정점 수 - 1개의 간선\n",
    "        e = eList.pop(-1)       # 가장 작은 가중치를 가진 간선\n",
    "        uset = find(e[0]);      # 두 정점이 속한 집합 번호\n",
    "        vset = find(e[1]);\n",
    "\n",
    "        if uset != vset :       # 두 정점이 다른 집합의 원소이면\n",
    "            print(\"간선 추가 : (%s, %s, %d)\" %\n",
    "                 (vertex[e[0]], vertex[e[1]], e[2]))\n",
    "            union(uset, vset)   # 두 집합을 합함\n",
    "            edgeAccepted += 1   # 간선이 하나 추가됨\n",
    "\n",
    "\n",
    "if __name__ == \"__main__\":\n",
    "    weight = [ [None,\t29,\t\tNone,\tNone,\tNone,   10,\t\tNone],\n",
    "               [29,\t\tNone,\t16,\t\tNone,\tNone,\tNone,\t15  ],\n",
    "               [None,\t16,\t\tNone,\t12,\t\tNone,\tNone,\tNone],\n",
    "               [None,\tNone,   12,\t\tNone,\t22,\t\tNone,\t18  ],\n",
    "               [None,\tNone,\tNone,   22,\t\tNone,\t27,\t\t25  ],\n",
    "               [10,\t\tNone,\tNone,\tNone,   27,\t\tNone,\tNone],\n",
    "               [None,   15,\t\tNone,   18,\t\t25,\t\tNone,\tNone]]    \n",
    "    vertex =   ['A',    'B',    'C',    'D',    'E',    'F',    'G' ]\n",
    "\n",
    "    print(\"MST By Kruskal's Algorithm\")\n",
    "    MSTKruskal(vertex, weight)\n"
   ]
  }
 ],
 "metadata": {
  "kernelspec": {
   "display_name": "Python 3",
   "language": "python",
   "name": "python3"
  },
  "language_info": {
   "codemirror_mode": {
    "name": "ipython",
    "version": 3
   },
   "file_extension": ".py",
   "mimetype": "text/x-python",
   "name": "python",
   "nbconvert_exporter": "python",
   "pygments_lexer": "ipython3",
   "version": "3.11.0"
  }
 },
 "nbformat": 4,
 "nbformat_minor": 2
}
