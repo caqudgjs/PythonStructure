{
 "cells": [
  {
   "cell_type": "code",
   "execution_count": 1,
   "metadata": {},
   "outputs": [],
   "source": [
    "# 4.1\n",
    "\n",
    "capacity = 10\n",
    "array = [None] * capacity\n",
    "top = -1\n",
    "\n",
    "def isEmpty():\n",
    "    if top == -1:\n",
    "        return True\n",
    "    else:\n",
    "        return False\n",
    "    \n",
    "def isFull():\n",
    "    return top == capacity - 1\n",
    "\n",
    "def push(e):\n",
    "    global top\n",
    "    if not isFull():\n",
    "        top += 1\n",
    "        array[top] = e\n",
    "    else:\n",
    "        print(\"Stack is full\")\n",
    "        exit()\n",
    "\n",
    "def pop():\n",
    "    global top\n",
    "    if not isEmpty():\n",
    "        top -= 1\n",
    "        return array[top + 1]\n",
    "    else:\n",
    "        print (\"Stack is empty\")\n",
    "        exit()\n",
    "\n",
    "def peek():\n",
    "    if not isEmpty:\n",
    "        return array[top]\n",
    "    else:\n",
    "        pass\n"
   ]
  },
  {
   "cell_type": "code",
   "execution_count": 1,
   "metadata": {},
   "outputs": [],
   "source": [
    "# 4.2\n",
    "class ArrayStack :\n",
    "    def __init__( self, capacity ):\n",
    "        self.capacity = capacity\n",
    "        self.array = [None] * capacity\n",
    "        self.top = -1\n",
    "\n",
    "    def isEmpty( self ):\n",
    "        return self.top == -1\n",
    "    \n",
    "    def isFull( self ):\n",
    "        return self.top == self.capacity - 1\n",
    "    \n",
    "    def push( self, e ):\n",
    "        if not self.isFull():\n",
    "            self.top += 1\n",
    "            self.array[self.top] = e\n",
    "        else:\n",
    "            pass\n",
    "    def pop( self ):\n",
    "        if not self.isEmpty():\n",
    "            self.top -= 1\n",
    "            return self.array[self.top + 1]\n",
    "        else:\n",
    "            pass\n",
    "\n",
    "    def peek( self ):\n",
    "        if not self.isEmpty():\n",
    "            return self.array[self.top]\n",
    "        else:\n",
    "            pass\n",
    "        "
   ]
  },
  {
   "cell_type": "code",
   "execution_count": 3,
   "metadata": {},
   "outputs": [
    {
     "name": "stdout",
     "output_type": "stream",
     "text": [
      "문자열 출력:.다니습갑반 .요세하녕안\n"
     ]
    }
   ],
   "source": [
    "# 4.3\n",
    "\n",
    "from ArrayStack import ArrayStack\n",
    "s = ArrayStack(100)\n",
    "\n",
    "msg = input('문자열 입력: ')\n",
    "for c in msg:\n",
    "    s.push(c)\n",
    "\n",
    "print(\"문자열 출력:\" , end = '')\n",
    "while not s.isEmpty():\n",
    "    print(s.pop(), end = '')\n",
    "print()\n"
   ]
  },
  {
   "cell_type": "code",
   "execution_count": 4,
   "metadata": {},
   "outputs": [],
   "source": [
    "# 4.4\n",
    "\n",
    "def checkBrackets(statement):\n",
    "    stack = ArrayStack(100)\n",
    "    for ch in statement:\n",
    "        if ch in ('{', '[', '('):\n",
    "            stack.push(ch)\n",
    "            \n",
    "        elif ch in ('}', ']', ')'):\n",
    "            if stack.isEmpty():\n",
    "                return False\n",
    "            else:\n",
    "                left = stack.pop()\n",
    "                if (ch == \"}\" and left != \"{\") or \\\n",
    "                    (ch == \"]\" and left != \"[\") or \\\n",
    "                    (ch == \")\" and left != \"(\"):\n",
    "                    return False\n",
    "    return stack.isEmpty()"
   ]
  },
  {
   "cell_type": "code",
   "execution_count": 5,
   "metadata": {},
   "outputs": [],
   "source": [
    "# 4.5\n",
    "\n",
    "def evalPostfix(expr):\n",
    "    s = ArrayStack(100)\n",
    "\n",
    "    for token in expr:\n",
    "        if token in '+-*/':\n",
    "            val2 = s.pop()\n",
    "            val1 = s.pop()\n",
    "            if token == '+':\n",
    "                s.push(val1 + val2)\n",
    "            elif token == '-':\n",
    "                s.push(val1 - val2)\n",
    "            elif token == '*':\n",
    "                s.push(val1 * val2)\n",
    "            elif token == '/':\n",
    "                s.push(val1 / val2)\n",
    "        else:\n",
    "            s.push(float(token))\n",
    "    return s.pop()"
   ]
  },
  {
   "cell_type": "code",
   "execution_count": 6,
   "metadata": {},
   "outputs": [],
   "source": [
    "# 4.6\n",
    "def precedence (op):\n",
    "    if op == '(' or op == ')' :\n",
    "        return 0\n",
    "    elif op == '+' or op == '-' :\n",
    "        return 1\n",
    "    elif op == '*' or op == '/' :\n",
    "        return 2\n",
    "    else:\n",
    "        return -1"
   ]
  },
  {
   "cell_type": "code",
   "execution_count": 23,
   "metadata": {},
   "outputs": [],
   "source": [
    "# 4.7\n",
    "def infix2Postfix( expr ):\n",
    "    s = ArrayStack(100)\n",
    "    output = []\n",
    "\n",
    "    for term in expr:\n",
    "        if term in '(':\n",
    "            s.push(term)\n",
    "\n",
    "        elif term in ')':\n",
    "            while not s.isEmpty():\n",
    "                op = s.pop()\n",
    "                if op == '(':\n",
    "                    break\n",
    "                else:\n",
    "                    output.append(op)\n",
    "\n",
    "        elif term in '+-*/':\n",
    "            while not s.isEmpty():\n",
    "                op = s.peek()\n",
    "                if precedence(term) <= precedence(op):\n",
    "                    output.append(op)\n",
    "                    s.pop()\n",
    "                else:\n",
    "                    break\n",
    "                s.push(term)\n",
    "\n",
    "            else:\n",
    "                output.append(term)\n",
    "        while not s.isEmpty():\n",
    "            output.append(s.pop())\n",
    "\n",
    "\n",
    "        return output\n",
    "    \n",
    "\n",
    "\n"
   ]
  },
  {
   "cell_type": "code",
   "execution_count": 24,
   "metadata": {},
   "outputs": [
    {
     "name": "stdout",
     "output_type": "stream",
     "text": [
      " 중위표기  ['8', '/', '2', '-', '3', '+', '(', '3', '*', '2', ')']\n",
      " 후위표기  []\n",
      " 계산결과  None\n",
      " 중위표기  ['1', '/', '2', '*', '4', '*', '(', '1', '4', ')']\n",
      " 후위표기  []\n",
      " 계산결과  None\n"
     ]
    }
   ],
   "source": [
    "# 4.8\n",
    "\n",
    "infix1 = ['8', '/', '2', '-', '3', '+', '(', '3', '*', '2', ')']\n",
    "infix2 = ['1', '/', '2', '*', '4', '*', '(', '1', '4', ')']\n",
    "postfix1 = infix2Postfix(infix1)\n",
    "postfix2 = infix2Postfix(infix2)\n",
    "result1 = evalPostfix(postfix1)\n",
    "result2 = evalPostfix(postfix2)\n",
    "print(' 중위표기 ', infix1)\n",
    "print(' 후위표기 ', postfix1)\n",
    "print(' 계산결과 ', result1)\n",
    "print(' 중위표기 ', infix2)\n",
    "print(' 후위표기 ', postfix2)\n",
    "print(' 계산결과 ', result2)"
   ]
  },
  {
   "cell_type": "code",
   "execution_count": 26,
   "metadata": {},
   "outputs": [],
   "source": [
    "# 4.9\n",
    "\n",
    "def isBalidpos(x, y):\n",
    "    if 0 <= x < MAZE_SIZE and 0 <= y < MAZE_SIZE:\n",
    "        if map[y][x] == '0' or map[x][y] == 'x':\n",
    "            return True\n",
    "    return False"
   ]
  },
  {
   "cell_type": "code",
   "execution_count": 27,
   "metadata": {},
   "outputs": [],
   "source": [
    "# 4.10\n",
    "def DFS():\n",
    "    print(\"DFS: \")\n",
    "    stack = ArrayStack(100)\n",
    "    stack.push((0,1))\n",
    "\n",
    "    while not stack.isEmpty():\n",
    "        here = stack.pop()\n",
    "        print(here, end = '->')\n",
    "        (x, y) = here\n",
    "\n",
    "        if (map[y][x] == 'x'):\n",
    "            return True\n",
    "        else:\n",
    "            map[y][x] = '.'\n",
    "            if isValidPos(x, y - 1): stack.push((x, y - 1))\n",
    "            if isValidPos(x, y + 1): stack.push((x, y + 1))\n",
    "            if isValidPos(x - 1, y): stack.push((x - 1, y))\n",
    "            if isValidPos(x + 1, y): stack.push((x + 1, y))\n",
    "        print(' 현재스택: ', stack)\n",
    "\n",
    "    return False"
   ]
  },
  {
   "cell_type": "code",
   "execution_count": 2,
   "metadata": {},
   "outputs": [
    {
     "data": {
      "text/plain": [
       "55"
      ]
     },
     "execution_count": 2,
     "metadata": {},
     "output_type": "execute_result"
    }
   ],
   "source": [
    "def calc_sum(n):\n",
    "    sum = 0\n",
    "    for i in range(1, n + 1):\n",
    "        sum += i\n",
    "    return sum\n",
    "\n",
    "calc_sum(10)"
   ]
  },
  {
   "cell_type": "code",
   "execution_count": 5,
   "metadata": {},
   "outputs": [
    {
     "data": {
      "text/plain": [
       "15"
      ]
     },
     "execution_count": 5,
     "metadata": {},
     "output_type": "execute_result"
    }
   ],
   "source": [
    "def sum(n):\n",
    "    if n < 1:\n",
    "        return 0\n",
    "    else:\n",
    "        return n + sum(n - 1)\n",
    "sum(5)"
   ]
  },
  {
   "cell_type": "code",
   "execution_count": 6,
   "metadata": {},
   "outputs": [
    {
     "name": "stdout",
     "output_type": "stream",
     "text": [
      "저는 coffee를 좋아합니다. 하루 5잔 마셔요.\n"
     ]
    }
   ],
   "source": [
    "s = 'coffee'\n",
    "n = 5\n",
    "print(f'저는 {s}를 좋아합니다. 하루 {n}잔 마셔요.')\n"
   ]
  },
  {
   "cell_type": "code",
   "execution_count": 10,
   "metadata": {},
   "outputs": [
    {
     "name": "stdout",
     "output_type": "stream",
     "text": [
      "2 * 1 = 2\n",
      "2 * 2 = 4\n",
      "2 * 3 = 6\n",
      "2 * 4 = 8\n",
      "2 * 5 = 10\n",
      "2 * 6 = 12\n",
      "2 * 7 = 14\n",
      "2 * 8 = 16\n",
      "2 * 9 = 18\n"
     ]
    }
   ],
   "source": [
    "#구구단\n",
    "def gugudan(n):\n",
    "    for i in range(1, 10):\n",
    "        print(f'{n} * {i} = {n * i}')\n",
    "gugudan(2)"
   ]
  },
  {
   "cell_type": "code",
   "execution_count": 13,
   "metadata": {},
   "outputs": [
    {
     "name": "stdout",
     "output_type": "stream",
     "text": [
      "2 * 1 = 2\n",
      "2 * 2 = 4\n",
      "2 * 3 = 6\n",
      "2 * 4 = 8\n",
      "2 * 5 = 10\n",
      "2 * 6 = 12\n",
      "2 * 7 = 14\n",
      "2 * 8 = 16\n",
      "2 * 9 = 18\n"
     ]
    }
   ],
   "source": [
    "#구구단 while문\n",
    "def gugudan(n):\n",
    "    i = 1\n",
    "    while i < 10:\n",
    "        print(f'{n} * {i} = {n * i}')\n",
    "        i += 1\n",
    "\n",
    "\n",
    "gugudan(2)"
   ]
  },
  {
   "cell_type": "code",
   "execution_count": 14,
   "metadata": {},
   "outputs": [
    {
     "name": "stdout",
     "output_type": "stream",
     "text": [
      "2 * 9 = 18\n",
      "2 * 8 = 16\n",
      "2 * 7 = 14\n",
      "2 * 6 = 12\n",
      "2 * 5 = 10\n",
      "2 * 4 = 8\n",
      "2 * 3 = 6\n",
      "2 * 2 = 4\n",
      "2 * 1 = 2\n"
     ]
    }
   ],
   "source": [
    "#for문 구구단 거꾸로\n",
    "def gugudan(n):\n",
    "    for i in range(9, 0, -1):\n",
    "        print(f'{n} * {i} = {n * i}')\n",
    "\n",
    "gugudan(2)"
   ]
  },
  {
   "cell_type": "code",
   "execution_count": null,
   "metadata": {},
   "outputs": [],
   "source": []
  }
 ],
 "metadata": {
  "kernelspec": {
   "display_name": "Python 3",
   "language": "python",
   "name": "python3"
  },
  "language_info": {
   "codemirror_mode": {
    "name": "ipython",
    "version": 3
   },
   "file_extension": ".py",
   "mimetype": "text/x-python",
   "name": "python",
   "nbconvert_exporter": "python",
   "pygments_lexer": "ipython3",
   "version": "3.11.0"
  }
 },
 "nbformat": 4,
 "nbformat_minor": 2
}
