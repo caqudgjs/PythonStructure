{
 "cells": [
  {
   "cell_type": "code",
   "execution_count": 1,
   "metadata": {},
   "outputs": [],
   "source": [
    "#1\n",
    "class TNode:\n",
    "    def __init__ (self, elem, left, right):\n",
    "        self.data = elem \n",
    "        self.left = left\n",
    "        self.right = right\n",
    "\n",
    "    def isLeaf(self):\n",
    "        return self.left is None and self.right is None"
   ]
  },
  {
   "cell_type": "code",
   "execution_count": 2,
   "metadata": {},
   "outputs": [],
   "source": [
    "#2\n",
    "def preorder(n) :\n",
    "    if n is not None :\n",
    "        print(n.data, end=' ')\n",
    "        preorder(n.left)\n",
    "        preorder(n.right)"
   ]
  },
  {
   "cell_type": "code",
   "execution_count": 3,
   "metadata": {},
   "outputs": [],
   "source": [
    "#3\n",
    "def inorder(n) :\n",
    "    if n is not None :\n",
    "        inorder(n.left)\n",
    "        print(n.data, end=' ')\n",
    "        inorder(n.right)"
   ]
  },
  {
   "cell_type": "code",
   "execution_count": 4,
   "metadata": {},
   "outputs": [],
   "source": [
    "#4\n",
    "def postorder(n) :\n",
    "    if n is not None :\n",
    "        postorder(n.left)\n",
    "        postorder(n.right)\n",
    "        print(n.data, end=' ')"
   ]
  },
  {
   "cell_type": "code",
   "execution_count": 5,
   "metadata": {},
   "outputs": [],
   "source": [
    "#6\n",
    "def count_node(n) :\n",
    "    if n is None : \n",
    "        return 0\n",
    "    else : \n",
    "        return 1 + count_node(n.left) + count_node(n.right)\n"
   ]
  },
  {
   "cell_type": "code",
   "execution_count": 6,
   "metadata": {},
   "outputs": [],
   "source": [
    "#7\n",
    "def count_leaf(n) :\n",
    "    if n is None : return 0\n",
    "    elif n.isLeaf() : return 1\n",
    "    else : return count_leaf(n.left) + count_leaf(n.right)\n"
   ]
  },
  {
   "cell_type": "code",
   "execution_count": 7,
   "metadata": {},
   "outputs": [],
   "source": [
    "#8\n",
    "def calc_height(n) :\n",
    "    if n is None : return 0\n",
    "    hLeft = calc_height(n.left)\n",
    "    hRight = calc_height(n.right)\n",
    "    if (hLeft > hRight) : return hLeft + 1\n",
    "    else: return hRight + 1"
   ]
  },
  {
   "cell_type": "code",
   "execution_count": 8,
   "metadata": {},
   "outputs": [],
   "source": [
    "#10\n",
    "table =[('A', '.-'),    ('B', '-...'),  ('C', '-.-.'),  ('D', '-..'),\n",
    "        ('E', '.'),     ('F', '..-.'),  ('G', '--.'),   ('H', '....'),\n",
    "        ('I', '..'),    ('J', '.---'),  ('K', '-.-'),   ('L', '.-..'),\n",
    "        ('M', '--'),    ('N', '-.'),    ('O', '---'),   ('P', '.--.'),\n",
    "        ('Q', '--.-'),  ('R', '.-.'),   ('S', '...'),   ('T', '-'),\n",
    "        ('U', '..-'),   ('V', '...-'),  ('W', '.--'),   ('X', '-..-'),\n",
    "        ('Y', '-.--'),  ('Z', '--..') ]\n",
    "\n",
    "def encode(ch):\n",
    "    idx = ord(ch)-ord('A')\n",
    "    return table[idx][1]"
   ]
  },
  {
   "cell_type": "code",
   "execution_count": 9,
   "metadata": {},
   "outputs": [],
   "source": [
    "#14\n",
    "\n",
    "def heappush(heap, n) :\n",
    "    heap.append(n)\t\t  \n",
    "    i = len(heap)-1\t\t\t\n",
    "    while i != 1 :         \n",
    "        pi = i//2          \n",
    "        if n <= heap[pi]:  \n",
    "            break\n",
    "        heap[i] = heap[pi]\t\n",
    "        i = pi\t\t\t   \n",
    "    heap[i] = n\t\t\t    "
   ]
  },
  {
   "cell_type": "code",
   "execution_count": 10,
   "metadata": {},
   "outputs": [],
   "source": [
    "#15\n",
    "\n",
    "def heappop(heap) :\n",
    "    size = len(heap) - 1    # 노드의 개수\n",
    "    if size == 0 :          # 공백상태\n",
    "       return None\n",
    "\n",
    "    root = heap[1]\t\t    # 삭제할 루트 노드(사장)\n",
    "    last = heap[size]\t    # 마지막 노드(말단사원)\n",
    "    pi = 1                  # 부모 노드의 인덱스\n",
    "    i = 2                   # 자식 노드의 인덱스\n",
    "\n",
    "    while (i <= size):\t    # 마지막 노드 이전까지\n",
    "        if i<size and heap[i] < heap[i+1]:  # right가 더 크면 i를 1 증가 (기본은 왼쪽 노드)\n",
    "            i += 1          # 비교할 자식은 오른쪽 자식\n",
    "        if last >= heap[i]: # 자식이 더 작으면 down-heap 종료\n",
    "            break\n",
    "        heap[pi] = heap[i]  # 아니면 down-heap 계속\n",
    "        pi = i              \n",
    "        i *= 2\n",
    "\n",
    "    heap[pi] = last\t        # 맨 마지막 노드를 parent위치에 복사\n",
    "    heap.pop()\t\t        # 맨 마지막 노드 삭제\n",
    "    return root\t\t\t    # 저장해두었던 루트를 반환"
   ]
  },
  {
   "cell_type": "code",
   "execution_count": 5,
   "metadata": {},
   "outputs": [],
   "source": [
    "#17\n",
    "def make_tree(freq):\n",
    "    heap = [0]\n",
    "    for n in freq:\n",
    "        heappush(heap, n)\n",
    "    \n",
    "    for i in range(1, len(freq)):\n",
    "        e1 = heappop(heap)\n",
    "        e2 = heappop(heap)\n",
    "        heappush(heap, e1, e2)\n",
    "        print(\" (%d+%d)\" % (e1, e2))\n",
    "label = ['E', 'T', 'N', 'I', 'S']\n",
    "freq = [15, 12, 8, 6, 4]\n",
    "make_tree(freq)"
   ]
  },
  {
   "cell_type": "code",
   "execution_count": null,
   "metadata": {},
   "outputs": [],
   "source": []
  }
 ],
 "metadata": {
  "kernelspec": {
   "display_name": "Python 3",
   "language": "python",
   "name": "python3"
  },
  "language_info": {
   "codemirror_mode": {
    "name": "ipython",
    "version": 3
   },
   "file_extension": ".py",
   "mimetype": "text/x-python",
   "name": "python",
   "nbconvert_exporter": "python",
   "pygments_lexer": "ipython3",
   "version": "3.11.0"
  }
 },
 "nbformat": 4,
 "nbformat_minor": 2
}
