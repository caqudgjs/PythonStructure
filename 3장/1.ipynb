{
 "cells": [
  {
   "cell_type": "code",
   "execution_count": 4,
   "metadata": {},
   "outputs": [
    {
     "name": "stdout",
     "output_type": "stream",
     "text": [
      "-1\n"
     ]
    }
   ],
   "source": [
    "# 3.11\n",
    "class ArrayList:\n",
    "    def __init__( self, capacity=100 ):\n",
    "        self.capacity = capacity\n",
    "        self.array = [None]*capacity\n",
    "        self.size = 0\n",
    "\n",
    "    def isEmpty( self ):\n",
    "       return self.size == 0\n",
    "\n",
    "    def isFull( self ):\n",
    "       return self.size == self.capacity\n",
    "\n",
    "    def getEntry(self, pos) :\n",
    "        if 0 <= pos < self.size :\n",
    "            return self.array[pos]\n",
    "        else : return None\n",
    "\n",
    "    def insert( self, pos, e ) :\n",
    "        if not self.isFull() and 0 <= pos <= self.size :\n",
    "            for i in range(self.size, pos,-1) :\n",
    "                self.array[i] = self.array[i-1]\n",
    "            self.array[pos] = e\n",
    "            self.size += 1\n",
    "        else : pass\n",
    "\n",
    "    def delete( self, pos ) :\n",
    "        if not self.isEmpty() and 0 <= pos < self.size :\n",
    "            e = self.array[pos]\n",
    "            for i in range(pos, self.size-1) :\n",
    "                self.array[i] = self.array[i+1]\n",
    "            self.size -= 1\n",
    "            return e\n",
    "        else : pass\n",
    "\n",
    "    def __str__( self ) :\n",
    "        return str(self.array[0:self.size])\n",
    "\n",
    "\n",
    "    def findMax(self):\n",
    "        if self.isEmpty():\n",
    "            return -1\n",
    "        else:\n",
    "            max_index = 0\n",
    "            for i in range(1, self.size):\n",
    "                if self.array[i] > self.array[max_index]:\n",
    "                    max_index = i\n",
    "            return max_index\n",
    "\n",
    "    def __str__( self ) :\n",
    "        return str(self.array[0:self.size])\n",
    "    \n",
    "myList = ArrayList()\n",
    "\n",
    "print(myList.findMax()) "
   ]
  },
  {
   "cell_type": "code",
   "execution_count": 1,
   "metadata": {},
   "outputs": [
    {
     "name": "stdout",
     "output_type": "stream",
     "text": [
      "[1, 2, 3, 3, 4, 6, 7]\n"
     ]
    }
   ],
   "source": [
    "# 3.13\n",
    "def merge(A, B):\n",
    "    C = []\n",
    "    i = j = 0\n",
    "    while i < len(A) and j < len(B):\n",
    "        if A[i] < B[j]:\n",
    "            C.append(A[i])\n",
    "            i += 1\n",
    "        else:\n",
    "            C.append(B[j])\n",
    "            j += 1\n",
    "    while i < len(A):\n",
    "        C.append(A[i])\n",
    "        i += 1\n",
    "    while j < len(B):\n",
    "        C.append(B[j])\n",
    "        j += 1\n",
    "    return C\n",
    "\n",
    "# 예시\n",
    "A = [1, 3, 4]\n",
    "B = [2, 3, 6, 7]\n",
    "C = merge(A, B)\n",
    "print(C)  "
   ]
  },
  {
   "cell_type": "code",
   "execution_count": null,
   "metadata": {},
   "outputs": [],
   "source": []
  }
 ],
 "metadata": {
  "kernelspec": {
   "display_name": "Python 3",
   "language": "python",
   "name": "python3"
  },
  "language_info": {
   "codemirror_mode": {
    "name": "ipython",
    "version": 3
   },
   "file_extension": ".py",
   "mimetype": "text/x-python",
   "name": "python",
   "nbconvert_exporter": "python",
   "pygments_lexer": "ipython3",
   "version": "3.11.0"
  }
 },
 "nbformat": 4,
 "nbformat_minor": 2
}
