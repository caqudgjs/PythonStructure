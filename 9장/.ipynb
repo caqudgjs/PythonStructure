{
 "cells": [
  {
   "cell_type": "code",
   "execution_count": null,
   "metadata": {},
   "outputs": [],
   "source": [
    "#1\n",
    "class BSTNode:\n",
    "    def __init__ (self, key, value=None):\n",
    "        self.key = key\n",
    "        self.value = value\n",
    "        self.left = None\n",
    "        self.right = None\n"
   ]
  },
  {
   "cell_type": "code",
   "execution_count": 1,
   "metadata": {},
   "outputs": [],
   "source": [
    "#2\n",
    "def search_bst(n, key) :\n",
    "    if n == None :\n",
    "        return None\n",
    "    elif key == n.key:\n",
    "        return n\n",
    "    elif key < n.key:\n",
    "        return search_bst(n.left, key)\n",
    "    else:\n",
    "        return search_bst(n.right, key)"
   ]
  },
  {
   "cell_type": "code",
   "execution_count": 2,
   "metadata": {},
   "outputs": [],
   "source": [
    "#5\n",
    "def search_max_bst(n) :\n",
    "    while n != None and n.right != None:\n",
    "        n = n.right\n",
    "    return n\n",
    "\n",
    "def search_min_bst(n) :\n",
    "    while n != None and n.left != None:\n",
    "        n = n.left\n",
    "    return n"
   ]
  },
  {
   "cell_type": "code",
   "execution_count": 3,
   "metadata": {},
   "outputs": [],
   "source": [
    "#6\n",
    "def insert_bst(root, node):\n",
    "    if root == None:\n",
    "        return node\n",
    "    if node.key == root.key:\n",
    "        return root\n",
    "    if node.key < root.key:\n",
    "        root.left = insert_bst(root.left, node)\n",
    "    else:\n",
    "        root.right = insert_bst(root.right, node)\n",
    "\n",
    "    return root"
   ]
  },
  {
   "cell_type": "code",
   "execution_count": 4,
   "metadata": {},
   "outputs": [],
   "source": [
    "#7\n",
    "def delete_bst (root, key) :\n",
    "    if root == None: \n",
    "        return None       \n",
    "    \n",
    "    if key < root.key:\n",
    "        root.left = delete_bst(root.left, key)\n",
    "    elif key > root.key:\n",
    "        root.right = delete_bst(root.right, key)\n",
    "\n",
    "    else:\n",
    "        if root.left == None:\n",
    "            return root.right\n",
    "        if root.right == None:\n",
    "            return root.left\n",
    "        \n",
    "        succ = search_min_bst(root.right)\n",
    "        root.key = succ.key\n",
    "        root.value = succ.value\n",
    "        root.right = delete_bst(root.right, succ.key)\n",
    "\n",
    "    return root\n",
    "\n"
   ]
  },
  {
   "cell_type": "code",
   "execution_count": null,
   "metadata": {},
   "outputs": [],
   "source": [
    "#16\n",
    "node = [7,8,9,2,1,5,3,6,4]\n",
    "# node = [0,1,2,3,4,5,6,7,8,9]\n",
    "\n",
    "root = None\n",
    "for i in node :\n",
    "    n = BSTNode(i)\n",
    "    root = insert_avl(root, n)\n",
    "    print(\"BST(%d): \"%i, end='')\n",
    "    levelorder(root)\n",
    "    print()\n",
    "\n",
    "print(\" 노드의 개수 =\", count_node(root))\n",
    "print(\" 단말의 개수 =\", count_leaf(root))\n",
    "print(\" 트리의 높이 =\", calc_height(root))\n"
   ]
  }
 ],
 "metadata": {
  "kernelspec": {
   "display_name": "Python 3",
   "language": "python",
   "name": "python3"
  },
  "language_info": {
   "codemirror_mode": {
    "name": "ipython",
    "version": 3
   },
   "file_extension": ".py",
   "mimetype": "text/x-python",
   "name": "python",
   "nbconvert_exporter": "python",
   "pygments_lexer": "ipython3",
   "version": "3.11.0"
  }
 },
 "nbformat": 4,
 "nbformat_minor": 2
}
