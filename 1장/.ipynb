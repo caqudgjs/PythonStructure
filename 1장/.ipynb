{
 "cells": [
  {
   "cell_type": "code",
   "execution_count": 1,
   "metadata": {},
   "outputs": [],
   "source": [
    "# 코드 1.1: Bag의 주요 연산을 일반함수로 구현 예\n",
    "def contains(bag, e) :\n",
    "    return e in bag\n",
    "\n",
    "def insert(bag, e) :\n",
    "    bag.append(e)\n",
    "\n",
    "def remove(bag, e) :\n",
    "    bag.remove(e)\n",
    "\n",
    "def count(bag):\n",
    "    return len(bag)"
   ]
  },
  {
   "cell_type": "code",
   "execution_count": 2,
   "metadata": {},
   "outputs": [
    {
     "name": "stdout",
     "output_type": "stream",
     "text": [
      "내 가방속의 물건: ['휴대폰', '지갑', '손수건', '빗', '자료구조', '야구공']\n",
      "내 가방속의 물건: ['휴대폰', '지갑', '빗', '자료구조', '야구공', '빗']\n"
     ]
    }
   ],
   "source": [
    "# 코드 1.2: Bag을 활용한 테스트 프로그램\n",
    "myBag = [ ]\n",
    "insert(myBag, '휴대폰')\n",
    "insert(myBag, '지갑')\n",
    "insert(myBag, '손수건')\n",
    "insert(myBag, '빗')\n",
    "insert(myBag, '자료구조')\n",
    "insert(myBag, '야구공')\n",
    "print('내 가방속의 물건:', myBag)\n",
    "\n",
    "insert(myBag, '빗')\n",
    "remove(myBag, '손수건')\n",
    "print('내 가방속의 물건:', myBag)"
   ]
  },
  {
   "cell_type": "code",
   "execution_count": 3,
   "metadata": {},
   "outputs": [
    {
     "name": "stdout",
     "output_type": "stream",
     "text": [
      "실행시간= 0.0\n"
     ]
    }
   ],
   "source": [
    "# 코드 1.3: 실행시간 측정\n",
    "\n",
    "import time\n",
    "\n",
    "myBag = [ ]\n",
    "start = time.time( )\n",
    "insert(myBag, '축구공')\n",
    "\n",
    "end = time.time( )\n",
    "print('실행시간=', end-start)"
   ]
  },
  {
   "cell_type": "code",
   "execution_count": 4,
   "metadata": {},
   "outputs": [],
   "source": [
    "# 코드 1.4: 순사 탐색 함수\n",
    "def search(A , key):\n",
    "    n = len(A)\n",
    "    for i in range(n):\n",
    "        if A[i] == key:\n",
    "            return i\n",
    "    return -1"
   ]
  },
  {
   "cell_type": "code",
   "execution_count": 5,
   "metadata": {},
   "outputs": [],
   "source": [
    "# 코드 1.5: 반복 구조의 팩토리얼 함수\n",
    "def factorial_iter(n) :\n",
    "    result = 1\n",
    "    for k in range(1, n+1) :\t\n",
    "        result = result * k\t\n",
    "    return result"
   ]
  },
  {
   "cell_type": "code",
   "execution_count": 6,
   "metadata": {},
   "outputs": [],
   "source": [
    "# 코드 1.6: 순환 구조의 팩토리얼 함수\n",
    "def factorial(n) :\n",
    "    if n == 1 : \n",
    "        return 1\n",
    "    else : \n",
    "        return n * factorial(n-1)"
   ]
  },
  {
   "cell_type": "code",
   "execution_count": 7,
   "metadata": {},
   "outputs": [],
   "source": [
    "# 코드 1.7: 하노이의 탑\n",
    "def hanoi_tower(n, fr, tmp, to) :\n",
    "    if (n == 1) :\n",
    "        print(\"원판 1: %s --> %s\" % (fr, to))\n",
    "    else :\n",
    "        hanoi_tower(n - 1, fr, to, tmp)\n",
    "        print(\"원판 %d: %s --> %s\" % (n, fr, to))\n",
    "        hanoi_tower(n - 1, tmp, fr, to)"
   ]
  },
  {
   "cell_type": "code",
   "execution_count": null,
   "metadata": {},
   "outputs": [],
   "source": []
  }
 ],
 "metadata": {
  "kernelspec": {
   "display_name": "Python 3",
   "language": "python",
   "name": "python3"
  },
  "language_info": {
   "codemirror_mode": {
    "name": "ipython",
    "version": 3
   },
   "file_extension": ".py",
   "mimetype": "text/x-python",
   "name": "python",
   "nbconvert_exporter": "python",
   "pygments_lexer": "ipython3",
   "version": "3.11.0"
  },
  "orig_nbformat": 4
 },
 "nbformat": 4,
 "nbformat_minor": 2
}
