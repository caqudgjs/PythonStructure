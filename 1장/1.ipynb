{
 "cells": [
  {
   "cell_type": "code",
   "execution_count": null,
   "metadata": {},
   "outputs": [],
   "source": [
    "#1.1\n",
    "\n",
    "#답 4번 5개의 로또번호 예측하는 프로그램\n"
   ]
  },
  {
   "cell_type": "code",
   "execution_count": null,
   "metadata": {},
   "outputs": [],
   "source": [
    "#1.2\n",
    "\n",
    "#답 4번 사용자들은 추상 자료형 어떻게 구현되었는지 정확히 알아야 이용할 수 있다. 이해하지 못하더라도 데이터와 연산을 추상화하여 제공하기때문에 이해하지 못해도 사용할 수 있다."
   ]
  },
  {
   "cell_type": "code",
   "execution_count": null,
   "metadata": {},
   "outputs": [],
   "source": [
    "#1.3\n",
    "\n",
    "#답 1번 time모듈 "
   ]
  },
  {
   "cell_type": "code",
   "execution_count": null,
   "metadata": {},
   "outputs": [],
   "source": [
    "#1.4\n",
    "\n",
    "#답 3번 수행 시간이 입력데이터 수와 관계없이 일정하다."
   ]
  },
  {
   "cell_type": "code",
   "execution_count": null,
   "metadata": {},
   "outputs": [],
   "source": [
    "#1.5\n",
    "\n",
    "# 답 \n",
    "#1 o 알고리즘과 자료구조는 상호보완적인 역할\n",
    "#2 x 일반적으로 자료나 연산이 제공되는 것만을 정의함, 구현 세부 사항은 제공하지 않음\n",
    "#3 o 크기가 n인 배열의 모든 항목의 합을 구하는 알고리즘은 최선과 최악의 경우에 대한 시간복잡도가 동일함.\n",
    "#4 o 배열에 같은 항목이 있는지를 판단하는 알고리즘의 최선과 최악의 경우 시간 복잡도는 주어진 알고리즘에 따라 다를 수 있음.\n",
    "#5 o 배열에서 같은 항목이 있는지 판단하는 경우, 최악의 경우 시간 복잡도는 O(n)임.\n"
   ]
  },
  {
   "cell_type": "code",
   "execution_count": null,
   "metadata": {},
   "outputs": [],
   "source": [
    "#1.7 다음의 빅오표기법들을 실행시간이 빠른 순서대로 나열하시오.\n",
    "\n",
    "#답 O(1) < O(log n) < O(n) < O(n log n) < O(n^2) < O(n^3) < O(2^n) < O(n!)"
   ]
  },
  {
   "cell_type": "code",
   "execution_count": 11,
   "metadata": {},
   "outputs": [
    {
     "data": {
      "text/plain": [
       "2"
      ]
     },
     "execution_count": 11,
     "metadata": {},
     "output_type": "execute_result"
    }
   ],
   "source": [
    "##1.10 다음과 같은 순환적인 프로그램에서 sub(3)과 같이 호출될 때 함수 sub의 호출 횟수를 구하시오.\n",
    "\n",
    "def sub(n):\n",
    "    if n <= 1:\n",
    "        return n\n",
    "    return sub(n-1) + sub(n-2)\n",
    "\n",
    "sub(3) \n",
    "#답 총 5번 호출\n"
   ]
  },
  {
   "cell_type": "code",
   "execution_count": 12,
   "metadata": {},
   "outputs": [
    {
     "name": "stdout",
     "output_type": "stream",
     "text": [
      "***************"
     ]
    }
   ],
   "source": [
    "#1.11 다음 함수에서 asterisk(5)와 같이 호출될 때 출력되는 *의 개수는?\n",
    "\n",
    "def asterisk(i):\n",
    "    if i > 1:\n",
    "        asterisk(i/2)\n",
    "        asterisk(i/2)\n",
    "    print(\"*\", end='')\n",
    "\n",
    "asterisk(5)\n",
    "#답 총 15개 출력"
   ]
  }
 ],
 "metadata": {
  "kernelspec": {
   "display_name": "Python 3",
   "language": "python",
   "name": "python3"
  },
  "language_info": {
   "codemirror_mode": {
    "name": "ipython",
    "version": 3
   },
   "file_extension": ".py",
   "mimetype": "text/x-python",
   "name": "python",
   "nbconvert_exporter": "python",
   "pygments_lexer": "ipython3",
   "version": "3.11.0"
  },
  "orig_nbformat": 4
 },
 "nbformat": 4,
 "nbformat_minor": 2
}
