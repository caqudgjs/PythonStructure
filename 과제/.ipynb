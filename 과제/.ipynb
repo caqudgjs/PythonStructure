{
 "cells": [
  {
   "cell_type": "code",
   "execution_count": 2,
   "metadata": {},
   "outputs": [
    {
     "name": "stdout",
     "output_type": "stream",
     "text": [
      "True\n",
      "[1, 2, 3]\n",
      "1\n",
      "2\n",
      "[3]\n",
      "1\n",
      "False\n"
     ]
    }
   ],
   "source": [
    "# 링크드 리스트 노드\n",
    "class Node:\n",
    "    def __init__(self, elem, next=None):\n",
    "        self.data = elem\n",
    "        self.link = next\n",
    "\n",
    "# 연결 큐 클래스\n",
    "class ConnectedQueue:\n",
    "    def __init__(self):\n",
    "        self.front = None  # 큐의 전단\n",
    "        self.rear = None   # 큐의 후단\n",
    "\n",
    "    def is_empty(self):\n",
    "        return self.front is None\n",
    "\n",
    "    def enqueue(self, elem):\n",
    "        new_node = Node(elem)\n",
    "        if self.is_empty():\n",
    "            self.front = self.rear = new_node\n",
    "        else:\n",
    "            self.rear.link = new_node\n",
    "            self.rear = new_node\n",
    "\n",
    "    def dequeue(self):\n",
    "        if self.is_empty():\n",
    "            print(\"큐가 비어 있습니다. 디큐할 수 없습니다.\")\n",
    "            return None\n",
    "\n",
    "        data = self.front.data\n",
    "        self.front = self.front.link\n",
    "\n",
    "        # 디큐 후 front가 None이 되면 rear도 None으로 설정\n",
    "        if self.front is None:\n",
    "            self.rear = None\n",
    "\n",
    "        return data\n",
    "\n",
    "    def size(self):\n",
    "        count = 0\n",
    "        node = self.front\n",
    "        while node is not None:\n",
    "            count += 1\n",
    "            node = node.link\n",
    "        return count\n",
    "\n",
    "    def __str__(self):\n",
    "        arr = []\n",
    "        node = self.front\n",
    "        while node is not None:\n",
    "            arr.append(node.data)\n",
    "            node = node.link\n",
    "        return str(arr)\n",
    "\n",
    "# 큐 인스턴스 생성\n",
    "queue = ConnectedQueue()\n",
    "\n",
    "# 큐가 비어 있는지 확인\n",
    "print(queue.is_empty())  # True\n",
    "\n",
    "# 큐에 원소 추가\n",
    "queue.enqueue(1)\n",
    "queue.enqueue(2)\n",
    "queue.enqueue(3)\n",
    "\n",
    "# 큐의 내용 출력\n",
    "print(queue.__str__())  # [1, 2, 3]\n",
    "\n",
    "# 큐에서 원소 제거\n",
    "print(queue.dequeue())  # 1\n",
    "print(queue.dequeue())  # 2\n",
    "\n",
    "# 큐의 내용 출력\n",
    "print(queue.__str__())  # [3]\n",
    "\n",
    "# 큐의 크기 출력\n",
    "print(queue.size())  # 1\n",
    "\n",
    "# 큐가 비어 있는지 확인\n",
    "print(queue.is_empty())  # False"
   ]
  },
  {
   "cell_type": "code",
   "execution_count": 3,
   "metadata": {},
   "outputs": [
    {
     "name": "stdout",
     "output_type": "stream",
     "text": [
      "True\n",
      "True\n",
      "False\n",
      "False\n"
     ]
    }
   ],
   "source": [
    "def is_palindrome(s):\n",
    "    s = s.lower()  # 모든 문자를 소문자로 변환\n",
    "    s = ''.join(filter(str.isalnum, s))  # 알파벳과 숫자만 남김\n",
    "\n",
    "    stack = list(s)  # 문자열을 스택에 넣음\n",
    "\n",
    "    # 스택의 내용을 역순으로 확인하면서 원래 문자열과 비교\n",
    "    for char in s:\n",
    "        if char != stack.pop():\n",
    "            return False\n",
    "\n",
    "    return True\n",
    "\n",
    "print(is_palindrome(\"eye\"))  # True\n",
    "print(is_palindrome(\"race car\"))  # True\n",
    "print(is_palindrome(\"I'm Adam\"))  # True\n",
    "print(is_palindrome(\"Hello\"))  # False"
   ]
  },
  {
   "cell_type": "code",
   "execution_count": 7,
   "metadata": {},
   "outputs": [
    {
     "name": "stdout",
     "output_type": "stream",
     "text": [
      "The string \"madam\" is a palindrome.\n"
     ]
    }
   ],
   "source": [
    "def is_palindrome(s):\n",
    "    # Function to remove punctuation, spaces, and convert to lowercase\n",
    "    def preprocess_string(s):\n",
    "        return ''.join(char.lower() for char in s if char.isalnum())\n",
    "\n",
    "    # Check if the processed string is a palindrome\n",
    "    def check_palindrome(processed_str):\n",
    "        stack = []\n",
    "        for char in processed_str:\n",
    "            stack.append(char)\n",
    "\n",
    "        reversed_str = ''\n",
    "        while stack:\n",
    "            reversed_str += stack.pop()\n",
    "\n",
    "        return processed_str == reversed_str\n",
    "\n",
    "    # Preprocess the input string\n",
    "    processed_string = preprocess_string(s)\n",
    "\n",
    "    # Check if the processed string is a palindrome\n",
    "    return check_palindrome(processed_string)\n",
    "\n",
    "#Receive input from the user\n",
    "input_string = input(\"Enter a string: \")\n",
    "\n",
    "#Check if the input string is a palindrome\n",
    "result = is_palindrome(input_string)\n",
    "\n",
    "#Display the result\n",
    "if result:\n",
    "    print(f'The string \"{input_string}\" is a palindrome.')\n",
    "else:\n",
    "    print(f'The string \"{input_string}\" is not a palindrome.')"
   ]
  },
  {
   "cell_type": "code",
   "execution_count": null,
   "metadata": {},
   "outputs": [],
   "source": [
    "dd"
   ]
  }
 ],
 "metadata": {
  "kernelspec": {
   "display_name": "Python 3",
   "language": "python",
   "name": "python3"
  },
  "language_info": {
   "codemirror_mode": {
    "name": "ipython",
    "version": 3
   },
   "file_extension": ".py",
   "mimetype": "text/x-python",
   "name": "python",
   "nbconvert_exporter": "python",
   "pygments_lexer": "ipython3",
   "version": "3.11.0"
  }
 },
 "nbformat": 4,
 "nbformat_minor": 2
}
