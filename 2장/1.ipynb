{
 "cells": [
  {
   "cell_type": "code",
   "execution_count": 1,
   "metadata": {},
   "outputs": [
    {
     "name": "stdout",
     "output_type": "stream",
     "text": [
      "15\n"
     ]
    }
   ],
   "source": [
    "# 2.7 리스트의 모든 값을 더해 결과를 반한하는 함수\n",
    "\n",
    "def sum_list(lst):\n",
    "    result = 0\n",
    "    for num in lst:\n",
    "        result += num\n",
    "    return result\n",
    "\n",
    "\n",
    "my_list = [1, 2, 3, 4, 5]\n",
    "result = sum_list(my_list)\n",
    "print(result)  # 15 출력"
   ]
  },
  {
   "cell_type": "code",
   "execution_count": 2,
   "metadata": {},
   "outputs": [
    {
     "name": "stdout",
     "output_type": "stream",
     "text": [
      "그대로 출력: Data Structures in Python\n",
      "대문자 출력: DATA STRUCTURES IN PYTHON\n",
      "소문자 출력: data structures in python\n"
     ]
    }
   ],
   "source": [
    "# 2.8 문자열 msg를 선언하고 그대로,대문자,소문자로 출력하는 함수\n",
    "\n",
    "msg = \"Data Structures in Python\"\n",
    "\n",
    "def print_strings(msg):\n",
    "    print(\"그대로 출력:\", msg)\n",
    "    print(\"대문자 출력:\", msg.upper())\n",
    "    print(\"소문자 출력:\", msg.lower())\n",
    "\n",
    "print_strings(msg)\n"
   ]
  },
  {
   "cell_type": "code",
   "execution_count": 3,
   "metadata": {},
   "outputs": [
    {
     "name": "stdout",
     "output_type": "stream",
     "text": [
      "EDCBA\n"
     ]
    }
   ],
   "source": [
    "# 2.12 문자열을 뒤집어 출력하는 함수\n",
    "def reverse(s):\n",
    "    if len(s) == 0:\n",
    "        return s\n",
    "    else:\n",
    "        return reverse(s[1:]) + s[0]\n",
    "\n",
    "s = \"ABCDE\"\n",
    "print(reverse(s))"
   ]
  },
  {
   "cell_type": "code",
   "execution_count": 5,
   "metadata": {},
   "outputs": [
    {
     "name": "stdout",
     "output_type": "stream",
     "text": [
      " 아닙니다. 더 작은 숫자입니다!\n",
      " 아닙니다. 더 작은 숫자입니다!\n",
      " 아닙니다. 더 작은 숫자입니다!\n",
      " 아닙니다. 더 작은 숫자입니다!\n",
      " 아닙니다. 더 큰 숫자입니다!\n",
      " 정답입니다. 6번 만에 맞추셨습니다.\n",
      " 게임이 끝났습니다. "
     ]
    }
   ],
   "source": [
    "# 2.15 번호 맞추기 게임\n",
    "import random\n",
    "answer = random.randint(1,99)\n",
    "#answer = 67\n",
    "min = 0\n",
    "max = 99\n",
    "for n in range(10) :\n",
    "    guess = int(input(\"숫자를 입력하세요(범위:%d~%d): \" % (min, max)))\n",
    "    if ( guess < answer ) :\n",
    "        print(\" 아닙니다. 더 큰 숫자입니다!\")\n",
    "        min = guess\n",
    "    elif ( guess > answer ) :\n",
    "        print(\" 아닙니다. 더 작은 숫자입니다!\")\n",
    "        max = guess\n",
    "    else :\n",
    "        print(\" 정답입니다. %d번 만에 맞추셨습니다.\" % (n+1))\n",
    "        break \n",
    "\n",
    "print(\" 게임이 끝났습니다.\", sep='', end=' ')"
   ]
  },
  {
   "cell_type": "code",
   "execution_count": null,
   "metadata": {},
   "outputs": [],
   "source": []
  }
 ],
 "metadata": {
  "kernelspec": {
   "display_name": "Python 3",
   "language": "python",
   "name": "python3"
  },
  "language_info": {
   "codemirror_mode": {
    "name": "ipython",
    "version": 3
   },
   "file_extension": ".py",
   "mimetype": "text/x-python",
   "name": "python",
   "nbconvert_exporter": "python",
   "pygments_lexer": "ipython3",
   "version": "3.11.0"
  },
  "orig_nbformat": 4
 },
 "nbformat": 4,
 "nbformat_minor": 2
}
