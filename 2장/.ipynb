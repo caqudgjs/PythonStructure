{
 "cells": [
  {
   "cell_type": "code",
   "execution_count": 6,
   "metadata": {},
   "outputs": [
    {
     "name": "stdout",
     "output_type": "stream",
     "text": [
      "min,max =  (1, 9)\n"
     ]
    }
   ],
   "source": [
    "# 코드 2.1 최솟값과 최댓값을 찾아 반환하는 함수\n",
    "def find_min_max(A):\n",
    "    min = A[0]\n",
    "    max = A[0]\n",
    "    for i in range(1, len(A)):\n",
    "        if max < A[i]: max = A[i]\n",
    "        if min > A[i]: min = A[i]\n",
    "    return min, max\n",
    "data = [5, 3, 8, 4, 9, 1, 6, 2, 7]\n",
    "x, y = find_min_max(data)\n",
    "print(\"min,max = \", (x, y))"
   ]
  },
  {
   "cell_type": "code",
   "execution_count": 8,
   "metadata": {},
   "outputs": [
    {
     "name": "stdout",
     "output_type": "stream",
     "text": [
      "sum =  45\n",
      "sum =  25\n",
      "sum =  12\n",
      "game "
     ]
    }
   ],
   "source": [
    "# 코드 2.2 지정된 범위의 수를 합한 결과를 반환하는 함수\n",
    "def sum_range(begin, end, step = 1):\n",
    "    sum = 0\n",
    "    for n in range(begin, end, step):\n",
    "        sum += n\n",
    "    return sum\n",
    "\n",
    "\n",
    "print(\"sum = \", sum_range(1, 10))\n",
    "print(\"sum = \", sum_range(1, 10, 2))\n",
    "print(\"sum = \", sum_range(step=3, begin=1, end=10))\n",
    "print(\"game\", end=\" \")"
   ]
  },
  {
   "cell_type": "code",
   "execution_count": 15,
   "metadata": {},
   "outputs": [
    {
     "name": "stdout",
     "output_type": "stream",
     "text": [
      "min,max =  (1, 9)\n",
      "sum =  45\n"
     ]
    }
   ],
   "source": [
    "# 코드 2.3 사용자가 작성한 모듈을 사용하는 코드\n",
    "\n",
    "import min_max\n",
    "import sum\n",
    "data = [5, 3, 8, 4, 9, 1, 6, 2, 7]\n",
    "print(\"min,max = \", min_max.find_min_max(data))\n",
    "print(\"sum = \", sum.sum_range(1, 10)) "
   ]
  },
  {
   "cell_type": "code",
   "execution_count": 16,
   "metadata": {},
   "outputs": [
    {
     "name": "stdout",
     "output_type": "stream",
     "text": [
      "min,max =  (1, 9)\n",
      "sum =  45\n"
     ]
    }
   ],
   "source": [
    "# 코드 2.4 외부 모듈의 from ~ import 포함 코드\n",
    "\n",
    "from min_max import find_min_max\n",
    "from sum import *\n",
    "\n",
    "data = [5, 3, 8, 4, 9, 1, 6, 2, 7]\n",
    "print(\"min,max = \", find_min_max(data))\n",
    "print(\"sum = \", sum_range(1, 10))"
   ]
  },
  {
   "cell_type": "code",
   "execution_count": 22,
   "metadata": {},
   "outputs": [],
   "source": [
    "# 코드 2.5 Car 클래스\n",
    "\n",
    "class Car:\n",
    "    def __init__(self, color, speed=0):\n",
    "        self.color = color\n",
    "        self.speed = speed\n",
    "\n",
    "    def speed_Up(self):\n",
    "        self.speed += 10\n",
    "\n",
    "    def speed_Down(self):\n",
    "        self.speed -= 10\n",
    "\n",
    "\n",
    "car1 = Car(\"black\", 0)\n",
    "car2 = Car(\"red\", 120)\n",
    "car3 = Car(\"yellow\")\n",
    "\n",
    "car1.speed_Up()\n",
    "car2.speed_Down()\n",
    "\n",
    "car1.color = \"purple\"\n",
    "car2.speed = 100\n"
   ]
  },
  {
   "cell_type": "code",
   "execution_count": 24,
   "metadata": {},
   "outputs": [],
   "source": [
    "# 코드 2.6 Car 클래스를 상속받은 SuperCar 클래스\n",
    "\n",
    "from Car import Car\n",
    "class SuperCar(Car):\n",
    "    def __init__(self, color, speed=0, bTurbo=True):\n",
    "        super().__init__(color, speed)\n",
    "        self.bTurbo = bTurbo\n",
    "\n",
    "    def setTurbo(self, bTurbo = True):\n",
    "        self.bTurbo = bTurbo\n",
    "\n",
    "    def speed_Up(self):\n",
    "        if self.bTurbo:\n",
    "            self.speed += 50\n",
    "        else:\n",
    "            super().speed_Up()"
   ]
  }
 ],
 "metadata": {
  "kernelspec": {
   "display_name": "Python 3",
   "language": "python",
   "name": "python3"
  },
  "language_info": {
   "codemirror_mode": {
    "name": "ipython",
    "version": 3
   },
   "file_extension": ".py",
   "mimetype": "text/x-python",
   "name": "python",
   "nbconvert_exporter": "python",
   "pygments_lexer": "ipython3",
   "version": "3.11.0"
  },
  "orig_nbformat": 4
 },
 "nbformat": 4,
 "nbformat_minor": 2
}
